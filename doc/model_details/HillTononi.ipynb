{
 "cells": [
  {
   "cell_type": "markdown",
   "metadata": {},
   "source": [
    "# The Hill-Tononi Neuron and Synapse Models\n",
    "\n",
    "Hans Ekkehard Plesser, 2016-11-24\n",
    "\n",
    "This notebook describes the neuron and synapse model proposed by Hill and Tononi in *J Neurophysiol* 93:1671-1698, 2005 ([doi:10.1152/jn.00915.2004](http://dx.doi.org/doi:10.1152/jn.00915.2004)) and their implementation in NEST. The notebook also contains some tests.\n",
    "\n",
    "This description is based on the original publication and publications cited therein, an analysis of the source code of the original Synthesis implementation kindly provided by Sean Hill, and plausiblity arguments.\n",
    "\n",
    "In what follows, I will refer to the original paper as [HT05]."
   ]
  },
  {
   "cell_type": "markdown",
   "metadata": {},
   "source": [
    "## The Neuron Model\n",
    "\n",
    "### Integration \n",
    "\n",
    "The original Synthesis implementation of the model uses Runge-Kutta integration with fixed 0.25 ms step size, and integrates channels dynamics first, followed by integration of membrane potential and threshold.\n",
    "\n",
    "NEST, in contrast, integrates the complete 16-dimensional state using a single adaptive-stepsize Runge-Kutta solver.\n",
    "\n",
    "### Membrane potential\n",
    "\n",
    "Membrane potential evolution is goverened by [HT05, p 1677]\n",
    "\n",
    "\\begin{equation}\n",
    "\\frac{\\text{d}V}{\\text{d}t} = \\frac{-g_{\\text{NaL}}(V-E_{\\text{Na}})\n",
    "-g_{\\text{KL}}(V-E_{\\text{K}})+I_{\\text{syn}}+I_{\\text{int}}}{\\tau_{\\text{m}}}\n",
    "-\\frac{g_{\\text{spike}}(V-E_{\\text{K}})}{\\tau_{\\text{spike}}}\n",
    "\\end{equation}\n",
    "\n",
    "- The equation does not contain membrane capacitance. As a side-effect, all conductances are dimensionless.\n",
    "- Na and K leak conductances $g_{\\text{NaL}}$ and $g_{\\text{KL}}$ are constant, although $g_{\\text{KL}}$ may be adjusted on slow time scales to mimic neuromodulatory effects.\n",
    "- Reversal potentials are assumed constant.\n",
    "- Synaptic currents $I_{\\text{syn}}$ and intrinsic currents $I_{\\text{int}}$ are discussed below. In contrast to the paper, they are shown with positive sign here (just change in notation).\n",
    "- The last term is a re-polarizing current only active during the refractory period, see below. Note that it has a different (faster) time constant than the other currents. It might have been more natural to use the same time constant for all currents and instead adjust $g_{\\text{spike}}$. We follow the original approach here."
   ]
  },
  {
   "cell_type": "markdown",
   "metadata": {},
   "source": [
    "### Threshold, Spike generation and refractory effects\n",
    "\n",
    "The threshold evolves according to [HT05, p 1677]\n",
    "\n",
    "\\begin{equation}\n",
    "\\frac{\\text{d}\\theta}{\\text{d}t} = -\\frac{\\theta-\\theta_{\\text{eq}}}{\\tau_{\\theta}}\n",
    "\\end{equation}\n",
    "\n",
    "The neuron emits a single spike if \n",
    "- it is not refractory\n",
    "- membrane potential crosses the threshold, $V\\geq\\theta$\n",
    "\n",
    "Upon spike emission,\n",
    "- $V \\leftarrow E_{\\text{Na}}$\n",
    "- $\\theta \\leftarrow E_{\\text{Na}}$\n",
    "- the neuron becomes refractory for time $t_{\\text{spike}}$ (`t_ref` in NEST)\n",
    "\n",
    "The repolarizing current is active during, and only during the refractory period:\n",
    "\\begin{equation}\n",
    "g_{\\text{spike}} = \\begin{cases}  1  & \\text{neuron is refractory}\\\\\n",
    " 0 & \\text{else} \\end{cases}\n",
    "\\end{equation}\n",
    "\n",
    "During the refractory period, the neuron cannot fire new spikes, but all state variables evolve freely, nothing is clamped. \n",
    "\n",
    "The model of spiking and refractoriness is based on Synthesis model `PulseIntegrateAndFire`."
   ]
  },
  {
   "cell_type": "markdown",
   "metadata": {},
   "source": [
    "### Intrinsic currents\n",
    "\n",
    "Note that not all intrinsic currents are active in all populations of the network model presented in [HT05, p1678f].\n",
    "\n",
    "Intrinsic currents are based on the Hodgkin-Huxley description, i.e.,\n",
    "\n",
    "\\begin{align}\n",
    "I_X &= g_{\\text{peak}, X} m_X(V, t)^N_X h_X(V, t)(V-E_X) \\\\\n",
    "\\frac{\\text{d}m_X}{\\text{d}t} &= \\frac{m_X^{\\infty}-m_X}{\\tau_{m,X}(V)}\\\\\n",
    "\\frac{\\text{d}h_X}{\\text{d}t} &= \\frac{h_X^{\\infty}-h_X}{\\tau_{h,X}(V)}\n",
    "\\end{align}\n",
    "\n",
    "#### Pacemaker current $I_h$\n",
    "\n",
    "Synthesis: `IhChannel`\n",
    "\n",
    "\\begin{align}\n",
    "N_h & = 1 \\\\\n",
    "m_h^{\\infty}(V) &= \\frac{1}{1+\\exp\\left(\\frac{V+75\\text{mV}}{5.5\\text{mV}}\\right)} \\\\\n",
    "\\tau_{m,h}(V) &= \\frac{1}{\\exp(-14.59-0.086V) + \\exp(-1.87  + 0.0701V)} \\\\\n",
    "h_h(V, t) &\\equiv 1 \n",
    "\\end{align}\n",
    "\n",
    "Note that subscript $h$ in some cases above marks the $I_h$ channel, \n",
    "\n",
    "#### Low-threshold calcium current $I_T$\n",
    "\n",
    "Synthesis: `ItChannel`\n",
    "\n",
    "##### Equations given in paper \n",
    "\n",
    "\\begin{align}\n",
    "N_T & \\quad \\text{not given} \\\\\n",
    "m_T^{\\infty}(V) &= 1/\\{1 +  \\exp[ -(V +  59.0)/6.2]\\} \\\\\n",
    "\\tau_{m,T}(V) &= \\{0.22/\\exp[ -(V  + 132.0)/ 16.7]\\} +  \\exp[(V  + 16.8)/18.2] +  0.13\\\\\n",
    "h_T^{\\infty}(V) &= 1/\\{1 +  \\exp[(V +  83.0)/4.0]\\} \\\\\n",
    "\\tau_{h,T}(V) &= \\langle  8.2 +  \\{56.6 +  0.27 \\exp[(V +  115.2)/5.0]\\}\\rangle / \\{1.0 +  \\exp[(V +  86.0)/3.2]\\}\n",
    "\\end{align}\n",
    "\n",
    "Note the following:\n",
    "- $N_T=2$ from Synthesis code\n",
    "- In the equation for $\\tau_{m,T}$, the second exponential term must be added to the first (in the denominator) to make dimensional sense; 0.13 and 0.22 have unit ms.\n",
    "- In the equation for $\\tau_{h,T}$, the $\\langle \\rangle$ brackets should be dropped, so that $8.2$ is not divided by the $1+\\exp$ term. Otherwise, it could have been combined with the $56.6$.\n",
    "- This analysis is confirmed by code analysis and comparison with Destexhe et al, *J Neurophysiol* 76:2049 (1996), Eq 5, as cited by [HT05].\n",
    "\n",
    "##### Corrected equations\n",
    "\n",
    "This leads to the following equations, which are implemented in Synthesis and NEST.\n",
    "\n",
    "\\begin{align}\n",
    "N_T &= 2 \\\\\n",
    "m_T^{\\infty}(V) &=  \\frac{1}{1+\\exp\\left(-\\frac{V+59\\text{mV}}{6.2\\text{mV}}\\right)}\\\\\n",
    "\\tau_{m,T}(V) &= 0.13\\text{ms} \n",
    "  + \\frac{0.22\\text{ms}}{\\exp\\left(-\\frac{V  + 132\\text{mV}}{16.7\\text{mV}}\\right) + \\exp\\left(\\frac{V +  16.8\\text{mV}}{18.2\\text{mV}}\\right)} \\\\ \n",
    "h_T^{\\infty}(V) &=  \\frac{1}{1+\\exp\\left(\\frac{V+83\\text{mV}}{4\\text{mV}}\\right)}\\\\\n",
    "\\tau_{h,T}(V) &= 8.2\\text{ms} +  \\frac{56.6\\text{ms} +  0.27\\text{ms} \\exp\\left(\\frac{V   + 115.2\\text{mV}}{5\\text{mV}}\\right)}{1 +   \\exp\\left(\\frac{V  + 86\\text{mV}}{3.2\\text{mV}}\\right)}\n",
    "\\end{align}\n",
    "\n",
    "#### Persistent Sodium Current $I_{NaP}$\n",
    "\n",
    "Synthesis: `INaPChannel`\n",
    "\n",
    "This model has only activation ($m$) and uses the steady-state value, so the only relevant equation is that for $m$. In the paper, it is given as\n",
    "\n",
    "\\begin{equation}\n",
    "m_{NaP}^{\\infty}(V) = 1/[1+\\exp(-V+55.7)/7.7]\n",
    "\\end{equation}\n",
    "\n",
    "Dimensional analysis indicates that the division by $7.7$ should be in the argument of the exponential, leading to the corrected equation\n",
    "\n",
    "\\begin{equation}\n",
    "m_{NaP}^{\\infty}(V) = \\frac{1}{1+\\exp\\left(\\frac{-V+55.7\\text{mV}}{7.7\\text{mV}}\\right)}\n",
    "\\end{equation}\n",
    "\n",
    "This equation is implemented in NEST and Synthesis.\n",
    "\n",
    "#### Depolarization-activated Potassium Current $I_{DK}$\n",
    "\n",
    "Synthesis: `IKNaChannel`\n",
    "\n",
    "This model also only has a single activation variable $m$, following more complicated dynamics expressed by $D$.\n",
    "\n",
    "##### Equations in paper\n",
    "\n",
    "\\begin{align}\n",
    " dD/dt &= D_{\\text{influx}} - D(1-D_{\\text{eq}})/\\tau_D \\\\\n",
    " D_{\\text{influx}} &= 1/\\{1+ \\exp[-(V-D_{\\theta})/\\sigma_D]\\} \\\\\n",
    " m_{DK}^{\\infty} &= 1/1 + (d_{1/2}D)^{3.5}\n",
    "\\end{align}\n",
    "\n",
    "The last equation is incorrect and logic (and the Synthesis implementation) indicate that the correct equation is\n",
    "\n",
    "\\begin{equation}\n",
    " m_{DK}^{\\infty} = 1/(1 + (d_{1/2} / D)^{3.5})\n",
    "\\end{equation}\n",
    "\n",
    "From the Synthesis equation we also glean that $D_{\\text{influx}}$ is scaled by a peak value, so that the differential equation for $D$ implemented in Synthesis is\n",
    "\n",
    "\\begin{align}\n",
    " dD/dt &= D_{\\text{influx,peak}} D_{\\text{influx}} - D(1-D_{\\text{eq}})/\\tau_D \n",
    "\\end{align}\n",
    "\n",
    "There is a problem with this equation, though: If influx vanishes, the steady-state equation becomes\n",
    "\\begin{equation}\n",
    " 0 = - D(1-D_{\\text{eq}})/\\tau_D \n",
    " \\end{equation}\n",
    " with solution\n",
    " \\begin{equation}\n",
    " D = 0\n",
    "\\end{equation}\n",
    "This contradicts both the plausible assumption that $D\\to D_{\\text{eq}}$ in this case, and the requirement that $D>0$ to avoid a singluarity in the equation for $m_{DK}^{\\infty}$. The most plausible correction is\n",
    "\\begin{equation}\n",
    " dD/dt = D_{\\text{influx}} - (D-D_{\\text{eq}})/\\tau_D \n",
    "\\end{equation}\n",
    "\n",
    "##### Corrected equations\n",
    "\n",
    "The equations implemented in NEST are thus\n",
    "\n",
    "\\begin{align}\n",
    " dD/dt &= D_{\\text{influx,peak}} D_{\\text{influx}} - \\frac{D-D_{\\text{eq}}}{\\tau_D} \\\\\n",
    " D_{\\text{influx}} &= \\frac{1}{1+ \\exp\\left(-\\frac{V-D_{\\theta}}{\\sigma_D}\\right)} \\\\\n",
    " m_{DK}^{\\infty} &= \\frac{1}{1 + \\left(\\frac{d_{1/2}}{D}\\right)^{3.5}}\n",
    "\\end{align}\n",
    "\n",
    "Parameters are as in the paper/Synthesis code\n",
    "\n",
    "|$D_{\\text{influx,peak}}$|$D_{\\text{eq}}$|$\\tau_D$|$D_{\\theta}$|$\\sigma_D$|$d_{1/2}$|\n",
    "|--|--|--|--|--|--|\n",
    "|0.025 |0.001|1250 ms|-10 mV|5 mV|0.25|\n",
    "\n",
    "\n",
    "**Note:** The differential equation differs from the one implemented in Synthesis."
   ]
  },
  {
   "cell_type": "markdown",
   "metadata": {},
   "source": [
    "### Synaptic channels\n",
    "\n",
    "These are described in [HT05, p 1678]. Synaptic channels are conductance based with double-exponential time course (beta functions) and normalized for peak conductance. NMDA channels are additionally voltage gated, as described below.\n",
    "\n",
    "Let $\\{t_{(j, X)}\\}$ be the set of all spike arrival times, where $X$ indicates the synapse model and $j$ enumerates spikes. Then the total synaptic input is given by\n",
    "\n",
    "\\begin{equation}\n",
    "I_{\\text{syn}}(t) = - \\sum_{\\{t_{(j, X)}\\}} \\bar{g}_X(t-t_{(j, X)}) (V-E_X)\n",
    "\\end{equation}\n",
    "\n",
    "#### Standard Channels\n",
    "\n",
    "Synthesis: `SynChannel`\n",
    "\n",
    "The conductance change due to a single input spike at time $t=0$ through a channel of type $X$ is given by (see below for exceptions)\n",
    "\n",
    "\\begin{align}\n",
    "    \\bar{g}_X(t) &= g_X(t)\\\\\n",
    "    g_X(t) &= g_{\\text{peak}, X}\\frac{\\exp(-t/\\tau_1) - \\exp(-t/\\tau_2)}{\n",
    "                 \\exp(-t_{\\text{peak}}/\\tau_1) - \\exp(-t_{\\text{peak}}/\\tau_2)} \\Theta(t)\\\\\n",
    "     t_{\\text{peak}} &= \\frac{\\tau_2 \\tau_1}{\\tau_2 - \\tau_1} \\ln\\frac{ \\tau_2}{\\tau_1}\n",
    "\\end{align} \n",
    "\n",
    "where $t_{\\text{peak}}$ is the time of the conductance maximum and $\\tau_1$ and $\\tau_2$ are synaptic rise- and decay-time, respectively; $\\Theta(t)$ is the Heaviside step function. The equation is integrated using exact integration in Synthesis; in NEST, it is included in the ODE-system integrated using RK.\n",
    "\n",
    "The \"indirection\" from $g$ to $\\bar{g}$ is required for consistent notation for NMDA channels below.\n",
    "\n",
    "These channels are used for AMPA, GABA_A and GABA_B channels.\n",
    "\n",
    "#### NMDA Channels\n",
    "\n",
    "Synthesis: `SynNMDAChannel`\n",
    "\n",
    "For the NMDA channel we have\n",
    "\\begin{equation}\n",
    "\\bar{g}_{\\text{NMDA}}(t) = m(V, t) g_{\\text{NMDA}}(t)\n",
    "\\end{equation}\n",
    "with $g_{\\text{NMDA}}(t)$ from above. \n",
    "\n",
    "The voltage-dependent gating $m(V, t)$ is defined as follows (based on textual description, Vargas-Caballero and Robinson *J Neurophysiol* 89:2778–2783, 2003, [doi:10.1152/jn.01038.2002](http://dx.doi.org/10.1152/jn.01038.2002), and code inspection):\n",
    "\n",
    "\\begin{align}\n",
    "     m(V, t) &= a(V) m_{\\text{fast}}^*(V, t) + ( 1 - a(V) ) m_{\\text{slow}}^*(V, t)\\\\\n",
    "     a(V)    &= 0.51 - 0.0028 V \\\\\n",
    "     m^{\\infty}(V) &= \\frac{1}{ 1 + \\exp\\left( -S_{\\text{act}} ( V - V_{\\text{act}} ) \\right) } \\\\\n",
    "     m_X^*(V, t) &= \\min(m^{\\infty}(V), m_X(V, t))\\\\\n",
    "      \\frac{\\text{d}m_X}{\\text{d}t} &= \\frac{m^{\\infty}(V) - m_X }{ \\tau_{\\text{Mg}, X}}\n",
    "\\end{align} \n",
    "\n",
    "where $X$ is \"slow\" or \"fast\". $a(V)$ expresses voltage-dependent weighting between slow and fast unblocking, $m^{\\infty}(V)$ the steady-state value of the proportion of unblocked NMDA-channels, the minimum condition in $m_X^*(V,t)$ the instantaneous blocking and the differential equation for $m_X(V,t)$ the unblocking dynamics.\n",
    "\n",
    "Synthesis uses tabluated values for $m^{\\infty}$. NEST uses the best fit of $V_{\\text{act}}$ and $S_{\\text{act}}$  to the tabulated data for conductance table `fNMDA`.\n",
    "\n",
    "**Note**: NEST also supports instantaneous NMDA dynamics using a boolean switch. In that case $m(V, t)=m^{\\infty}(V)$. \n",
    "\n",
    "#### Synaptic \"minis\"\n",
    "\n",
    "Synaptic \"minis\" due to spontaneous release of neurotransmitter quanta [HT05, p 1679] are not included in the NEST implementation of the Hill-Tononi model. This due to the fact that the total mini input rate for a cell was just 2 Hz and they cause PSP changes by $0.5 \\pm 0.25$mV only and thus should have minimal effect.\n",
    "\n",
    "\n"
   ]
  },
  {
   "cell_type": "markdown",
   "metadata": {},
   "source": [
    "## The Synapse Depression Model\n",
    "\n",
    "The synapse depression model is implemented in NEST as `ht_synapse`, in Synthesis in `SynChannel` and `VesiclePool`.\n",
    "\n",
    "$P\\in[0, 1]$ describes the state of the presynaptic vesicle pool. Spikes are transmitted with an effective weight\n",
    "\\begin{equation}\n",
    "w_{\\text{eff}} = P w\n",
    "\\end{equation}\n",
    "where $w$ is the nominal weight of the synapse.\n",
    "\n",
    "### Evolution of $P$ in paper and Synthesis implementation\n",
    "\n",
    "According to [HT05, p 1678], the pool $P$ evolves according to\n",
    "\\begin{equation}\n",
    "\\frac{\\text{d}P}{\\text{d}t} = -\\:\\text{spike}\\:\\delta_P P+\\frac{P_{\\text{peak}}-P}{\\tau_P}\n",
    "\\end{equation}\n",
    "where\n",
    "- $\\text{spike}=1$ while the neuron is in spiking state, 0 otherwise\n",
    "- $P_{\\text{peak}}=1$ \n",
    "- $\\delta_P = 0.5$ by default\n",
    "- $\\tau_P = 500\\text{ms}$ by default\n",
    "Since neurons are in spiking state for one integration time step $\\Delta t$, this suggest that the effect of a spike on the vesicle pool is approximately\n",
    "\\begin{equation}\n",
    "P \\leftarrow ( 1 - \\Delta t \\delta_P ) P\n",
    "\\end{equation}\n",
    "For default parameters $\\Delta t=0.25\\text{ms}$ and $\\delta_P=0.5$, this means that a single spike reduceds the pool by 1/8 of its current size.\n",
    "\n",
    "### Evolution of $P$ in the NEST implementation\n",
    "\n",
    "In NEST, we modify the equations above to obtain a definite jump in pool size on transmission of a spike, without any dependence on the integration time step (fixing explicitly $P_{\\text{peak}}$):\n",
    "\n",
    "\\begin{align}\n",
    "\\frac{\\text{d}P}{\\text{d}t} &= \\frac{1-P}{\\tau_P} \\\\\n",
    "P &\\leftarrow ( 1 - \\delta_P^*) P \n",
    "\\end{align}\n",
    "\n",
    "$P$ is only updated when a spike passes the synapse, in the following way (where $\\Delta$ is the time since the last spike through the same synapse):\n",
    "\n",
    "1. Recuperation: $P\\leftarrow 1 - ( 1 - P ) \\exp( -\\Delta / \\tau_P )$\n",
    "2. Spike transmission with $w_{\\text{eff}} = P w$\n",
    "3. Depletion: $P \\leftarrow ( 1 - \\delta_P^*) P$\n",
    "\n",
    "To achieve approximately the same depletion as in Synthesis, use $\\delta_P^*=\\Delta t\\delta_p$.\n",
    "\n",
    "\n",
    "\n",
    "\n",
    "\n",
    "\n"
   ]
  },
  {
   "cell_type": "markdown",
   "metadata": {},
   "source": [
    "## Tests of the Models"
   ]
  },
  {
   "cell_type": "code",
   "execution_count": 1,
   "metadata": {
    "collapsed": true
   },
   "outputs": [],
   "source": [
    "import sys\n",
    "import math\n",
    "import numpy as np\n",
    "import scipy.optimize as so\n",
    "import nest"
   ]
  },
  {
   "cell_type": "markdown",
   "metadata": {},
   "source": [
    "### Neuron Model\n",
    "\n",
    "#### Passive properties\n",
    "\n",
    "Test relaxation of neuron and threshold to equilibrium values in absence of intrinsic currents and input. We then have\n",
    "\\begin{align}\n",
    "\\tau_m \\dot{V}&= \\left[-g_{NaL}(V-E_{Na})-g_{KL}(V-E_K)\\right] = -(g_{NaL}+g_{KL})V+(g_{NaL}E_{Na}+g_{KL}E_K)\\\\\n",
    "\\Leftrightarrow\\quad \\tau_{\\text{eff}}\\dot{V} &= -V+V_{\\infty}\\\\\n",
    "V_{\\infty} &= \\frac{g_{NaL}E_{Na}+g_{KL}E_K}{g_{NaL}+g_{KL}}\\\\\n",
    "\\tau_{\\text{eff}}&=\\frac{\\tau_m}{g_{NaL}+g_{KL}}\n",
    "\\end{align}\n",
    "with solution\n",
    "\\begin{equation}\n",
    "V(t) = V_0 e^{-\\frac{t}{\\tau_{\\text{eff}}}} + V_{\\infty}\\left(1-e^{-\\frac{t}{\\tau_{\\text{eff}}}} \\right)\n",
    "\\end{equation}\n",
    "and for the threshold\n",
    "\\begin{equation}\n",
    "\\theta(t) = \\theta_0 e^{-\\frac{t}{\\tau_{\\theta}}} + \\theta_{eq}\\left(1-e^{-\\frac{t}{\\tau_{\\theta}}} \\right)\n",
    "\\end{equation}"
   ]
  },
  {
   "cell_type": "code",
   "execution_count": 2,
   "metadata": {
    "collapsed": true
   },
   "outputs": [],
   "source": [
    "def Vpass(t, V0, gNaL, ENa, gKL, EK, taum, I=0):\n",
    "    tau_eff = taum/(gNaL + gKL)\n",
    "    Vinf = (gNaL*ENa + gKL*EK + I)/(gNaL + gKL)\n",
    "    return V0*np.exp(-t/tau_eff) + Vinf*(1-np.exp(-t/tau_eff))\n",
    "\n",
    "def theta(t, th0, theq, tauth):\n",
    "    return th0*np.exp(-t/tauth) + theq*(1-np.exp(-t/tauth))"
   ]
  },
  {
   "cell_type": "code",
   "execution_count": 3,
   "metadata": {
    "collapsed": false
   },
   "outputs": [
    {
     "name": "stdout",
     "output_type": "stream",
     "text": [
      "Vex  = -76.694, Vsim  = -76.694, Vex-Vsim   = -1.847e-13\n",
      "thex = -52.895, thsim = -52.895, thex-thsim = -3.553e-13\n",
      "Vex  = -70.000, Vsim  = -70.000, Vex-Vsim   = 0.000e+00\n",
      "thex = -51.000, thsim = -51.000, thex-thsim = 0.000e+00\n",
      "Vex  = -66.653, Vsim  = -66.653, Vex-Vsim   = 1.137e-13\n",
      "thex = -45.451, thsim = -45.451, thex-thsim = 1.009e-12\n"
     ]
    }
   ],
   "source": [
    "nest.ResetKernel()\n",
    "nest.SetDefaults('ht_neuron', {'g_peak_NaP': 0., 'g_peak_KNa': 0.,\n",
    "                               'g_peak_T': 0., 'g_peak_h': 0.,\n",
    "                               'tau_theta': 10.})\n",
    "hp = nest.GetDefaults('ht_neuron')\n",
    "\n",
    "V_th_0 = [(-100., -65.), (-70., -51.), (-55., -10.)]\n",
    "T_sim = 20.\n",
    "\n",
    "nrns = nest.Create('ht_neuron', n=len(V_th_0), params=[{'V_m': V, 'theta': th} \n",
    "                                               for V, th in V_th_0])\n",
    "nest.Simulate(T_sim)\n",
    "V_th_sim = nest.GetStatus(nrns, ['V_m', 'theta'])\n",
    "\n",
    "for (V0, th0), (Vsim, thsim) in zip(V_th_0, V_th_sim):\n",
    "    Vex = Vpass(T_sim, V0, hp['g_NaL'], hp['E_Na'], hp['g_KL'], hp['E_K'], hp['tau_m'])\n",
    "    thex = theta(T_sim, th0, hp['theta_eq'], hp['tau_theta'])\n",
    "    print('Vex  = {:.3f}, Vsim  = {:.3f}, Vex-Vsim   = {:.3e}'.format(Vex, Vsim, Vex-Vsim))\n",
    "    print('thex = {:.3f}, thsim = {:.3f}, thex-thsim = {:.3e}'.format(thex, thsim, thex-thsim))"
   ]
  },
  {
   "cell_type": "markdown",
   "metadata": {},
   "source": [
    "Agreement is excellent."
   ]
  },
  {
   "cell_type": "markdown",
   "metadata": {},
   "source": [
    "#### Spiking without intrinsic currents or synaptic input\n",
    "\n",
    "The equations above hold for input current $I(t)$, but with\n",
    "\\begin{equation}\n",
    "V_{\\infty}(I) = \\frac{g_{NaL}E_{Na}+g_{KL}E_K}{g_{NaL}+g_{KL}} + \\frac{I}{g_{NaL}+g_{KL}}\n",
    "\\end{equation}\n",
    "In NEST, we need to inject input current into the `ht_neuron` with a `dc_generator`, whence the current will set on only at a later time and we need to take this into account. For simplicity, we assume that $V$ is initialized to $V_{\\infty}(I=0)$ and that current onset is at $t_I$. We then have for $t\\geq t_I$\n",
    "\\begin{equation}\n",
    "V(t) = V_{\\infty}(0) e^{-\\frac{t-t_I}{\\tau_{\\text{eff}}}} + V_{\\infty}(I)\\left(1-e^{-\\frac{t-t_I}{\\tau_{\\text{eff}}}} \\right)\n",
    "\\end{equation}\n",
    "If we also initialize $\\theta=\\theta_{\\text{eq}}$, the threshold is constant and we have the first spike at\n",
    "\\begin{align}\n",
    "V(t) &= \\theta_{\\text{eq}}\\\\\n",
    "\\Leftrightarrow\\quad t &= t_I -\\tau_{\\text{eff}} \\ln \\frac{\\theta_{\\text{eq}}-V_{\\infty}(I)}{V_{\\infty}(0)-V_{\\infty}(I)}\n",
    "\\end{align}"
   ]
  },
  {
   "cell_type": "code",
   "execution_count": 4,
   "metadata": {
    "collapsed": false
   },
   "outputs": [],
   "source": [
    "def t_first_spike(gNaL, ENa, gKL, EK, taum, theq, tI, I):\n",
    "    tau_eff = taum/(gNaL + gKL)\n",
    "    Vinf0 = (gNaL*ENa + gKL*EK)/(gNaL + gKL)\n",
    "    VinfI = (gNaL*ENa + gKL*EK + I)/(gNaL + gKL)\n",
    "    return tI - tau_eff * np.log((theq-VinfI) / (Vinf0-VinfI))"
   ]
  },
  {
   "cell_type": "code",
   "execution_count": 5,
   "metadata": {
    "collapsed": false
   },
   "outputs": [
    {
     "name": "stdout",
     "output_type": "stream",
     "text": [
      "tex  = 34.4056, tsim  = 34.4060, tex-tsim = -0.0004\n",
      "tex  = 10.1174, tsim  = 10.1180, tex-tsim = -0.0006\n",
      "tex  = 5.4503, tsim  = 5.4510, tex-tsim = -0.0007\n"
     ]
    }
   ],
   "source": [
    "nest.ResetKernel()\n",
    "nest.SetKernelStatus({'resolution': 0.001})\n",
    "nest.SetDefaults('ht_neuron', {'g_peak_NaP': 0., 'g_peak_KNa': 0.,\n",
    "                               'g_peak_T': 0., 'g_peak_h': 0.})\n",
    "hp = nest.GetDefaults('ht_neuron')\n",
    "\n",
    "I = [25., 50., 100.]\n",
    "tI = 1.\n",
    "delay = 1.\n",
    "T_sim = 40.\n",
    "\n",
    "nrns = nest.Create('ht_neuron', n=len(I))\n",
    "dcgens = nest.Create('dc_generator', n=len(I), params=[{'amplitude': dc,\n",
    "                                                        'start': tI} for dc in I])\n",
    "sdets = nest.Create('spike_detector', n=len(I))\n",
    "nest.Connect(dcgens, nrns, 'one_to_one', {'delay': delay})\n",
    "nest.Connect(nrns, sdets, 'one_to_one')\n",
    "nest.Simulate(T_sim)\n",
    "\n",
    "t_first_sim = [ev['events']['times'][0] for ev in nest.GetStatus(sdets)]\n",
    "\n",
    "for dc, tf_sim in zip(I, t_first_sim):\n",
    "    tf_ex = t_first_spike(hp['g_NaL'], hp['E_Na'], hp['g_KL'], hp['E_K'], \n",
    "                          hp['tau_m'], hp['theta_eq'], tI+delay, dc)\n",
    "    print('tex  = {:.4f}, tsim  = {:.4f}, tex-tsim = {:.4f}'.format(tf_ex, \n",
    "                                                                    tf_sim, \n",
    "                                                                    tf_ex-tf_sim))\n"
   ]
  },
  {
   "cell_type": "markdown",
   "metadata": {},
   "source": [
    "Agreement is as good as possible: All spikes occur in NEST at then end of the time step containing the expected spike time."
   ]
  },
  {
   "cell_type": "markdown",
   "metadata": {},
   "source": [
    "#### Inter-spike interval\n",
    "\n",
    "After each spike, $V_m = \\theta = E_{Na}$, i.e., all memory is erased. We can thus treat ISIs independently. $\\theta$ relaxes according to the equation above. For $V_m$, we have during $t_{\\text{spike}}$ after a spike\n",
    "\n",
    "\\begin{align}\n",
    "\\tau_m\\dot{V} &= {-g_{\\text{NaL}}(V-E_{\\text{Na}})\n",
    "-g_{\\text{KL}}(V-E_{\\text{K}})+I}\n",
    "-\\frac{\\tau_m}{\\tau_{\\text{spike}}}({V-E_{\\text{K}}})\\\\\n",
    "&=  -(g_{NaL}+g_{KL}+\\frac{\\tau_m}{\\tau_{\\text{spike}}})V+(g_{NaL}E_{Na}+g_{KL}E_K+\\frac{\\tau_m}{\\tau_{\\text{spike}}}E_K)\n",
    "\\end{align}\n",
    "\n",
    "thus recovering the same for for the solution but with\n",
    "\n",
    "\\begin{align}\n",
    "\\tau^*_{\\text{eff}} &= \\frac{\\tau_m}{g_{NaL}+g_{KL}+\\frac{\\tau_m}{\\tau_{\\text{spike}}}}\\\\\n",
    "V^*_{\\infty} &= \\frac{g_{NaL}E_{Na}+g_{KL}E_K+I+\\frac{\\tau_m}{\\tau_{\\text{spike}}}E_K}{g_{NaL}+g_{KL}+\\frac{\\tau_m}{\\tau_{\\text{spike}}}}\n",
    "\\end{align}\n",
    "\n",
    "Assuming that the ISI is longer than the refractory period $t_{\\text{spike}}$, and we had a spike at time $t_s$, then we have at $t_s+t_{\\text{spike}}$\n",
    "\n",
    "\\begin{align}\n",
    "V^* &= V(t_s+t_{\\text{spike}}) = E_{Na} e^{-\\frac{t_{\\text{spike}}}{\\tau^*_{\\text{eff}}}} + V^*_{\\infty}(I)\\left(1-e^{-\\frac{t_{\\text{spike}}}{\\tau^*_{\\text{eff}}}} \\right)\\\\\n",
    "\\theta^* &= \\theta(t_s+t_{\\text{spike}}) = E_{Na} e^{-\\frac{t_{\\text{spike}}}{\\tau_{\\theta}}} + \\theta_{eq}\\left(1-e^{-\\frac{t_{\\text{spike}}}{\\tau_{\\theta}}} \\right)\\\\\n",
    "t^* &= t_s+t_{\\text{spike}}\n",
    "\\end{align}\n",
    "\n",
    "For $t>t^*$, the normal equations apply again, i.e.,\n",
    "\\begin{align}\n",
    "V(t) &= V^* e^{-\\frac{t-t^*}{\\tau_{\\text{eff}}}} + V_{\\infty}(I)\\left(1-e^{-\\frac{t-t^*}{\\tau_{\\text{eff}}}} \\right)\\\\\n",
    "\\theta(t) &= \\theta^* e^{-\\frac{t-t^*}{\\tau_{\\theta}}} + \\theta_{\\infty}\\left(1-e^{-\\frac{t-t^*}{\\tau_{\\theta}}}\\right)\n",
    "\\end{align}\n",
    "\n",
    "The time of the next spike is then given by\n",
    "\\begin{equation}\n",
    "V(\\hat{t}) = \\theta(\\hat{t})\n",
    "\\end{equation}\n",
    "which can only be solved numerically. The ISI is then obtained as $\\hat{t}-t_s$."
   ]
  },
  {
   "cell_type": "code",
   "execution_count": 25,
   "metadata": {
    "collapsed": false
   },
   "outputs": [],
   "source": [
    "def Vspike(tspk, gNaL, ENa, gKL, EK, taum, tauspk, I=0):\n",
    "    tau_eff = taum/(gNaL + gKL + taum/tauspk)\n",
    "    Vinf = (gNaL*ENa + gKL*EK + I + taum/tauspk*EK)/(gNaL + gKL + taum/tauspk)\n",
    "    return ENa*np.exp(-tspk/tau_eff) + Vinf*(1-np.exp(-tspk/tau_eff))\n",
    "\n",
    "def thetaspike(tspk, ENa, theq, tauth):\n",
    "    return ENa*np.exp(-tspk/tauth) + theq*(1-np.exp(-tspk/tauth))\n",
    "\n",
    "def Vpost(t, tspk, gNaL, ENa, gKL, EK, taum, tauspk, I=0):\n",
    "    Vsp = Vspike(tspk, gNaL, ENa, gKL, EK, taum, tauspk, I)\n",
    "    return Vpass(t-tspk, Vsp, gNaL, ENa, gKL, EK, taum, I)\n",
    "\n",
    "def thetapost(t, tspk, ENa, theq, tauth):\n",
    "    thsp = thetaspike(tspk, ENa, theq, tauth)\n",
    "    return theta(t-tspk, thsp, theq, tauth)\n",
    "\n",
    "def threshold(t, tspk, gNaL, ENa, gKL, EK, taum, tauspk, I, theq, tauth):\n",
    "    return Vpost(t, tspk, gNaL, ENa, gKL, EK, taum, tauspk, I) - thetapost(t, tspk, ENa, theq, tauth)"
   ]
  },
  {
   "cell_type": "code",
   "execution_count": 31,
   "metadata": {
    "collapsed": false
   },
   "outputs": [
    {
     "name": "stdout",
     "output_type": "stream",
     "text": [
      "isi_ex  = 14.3144, isi_sim (min, mean, max)  = (14.3150, 14.3150, 14.3150)\n",
      "isi_ex  = 5.6602, isi_sim (min, mean, max)  = (5.6610, 5.6610, 5.6610)\n",
      "isi_ex  = 3.9718, isi_sim (min, mean, max)  = (3.9720, 3.9720, 3.9720)\n"
     ]
    }
   ],
   "source": [
    "nest.ResetKernel()\n",
    "nest.SetKernelStatus({'resolution': 0.001})\n",
    "nest.SetDefaults('ht_neuron', {'g_peak_NaP': 0., 'g_peak_KNa': 0.,\n",
    "                               'g_peak_T': 0., 'g_peak_h': 0.})\n",
    "hp = nest.GetDefaults('ht_neuron')\n",
    "\n",
    "I = [25., 50., 100.]\n",
    "tI = 1.\n",
    "delay = 1.\n",
    "T_sim = 1000.\n",
    "\n",
    "nrns = nest.Create('ht_neuron', n=len(I))\n",
    "dcgens = nest.Create('dc_generator', n=len(I), params=[{'amplitude': dc,\n",
    "                                                        'start': tI} for dc in I])\n",
    "sdets = nest.Create('spike_detector', n=len(I))\n",
    "nest.Connect(dcgens, nrns, 'one_to_one', {'delay': delay})\n",
    "nest.Connect(nrns, sdets, 'one_to_one')\n",
    "nest.Simulate(T_sim)\n",
    "\n",
    "isi_sim = []\n",
    "for ev in nest.GetStatus(sdets):\n",
    "    t_spk = ev['events']['times']\n",
    "    isi = np.diff(t_spk)\n",
    "    isi_sim.append((np.min(isi), np.mean(isi), np.max(isi)))\n",
    "\n",
    "for dc, (isi_min, isi_mean, isi_max) in zip(I, isi_sim):\n",
    "    isi_ex = so.bisect(threshold, hp['t_ref'], 50, \n",
    "                      args=(hp['t_ref'], hp['g_NaL'], hp['E_Na'], hp['g_KL'], hp['E_K'], \n",
    "                          hp['tau_m'], hp['tau_spike'], dc, hp['theta_eq'], hp['tau_theta']))\n",
    "    print('isi_ex  = {:.4f}, isi_sim (min, mean, max)  = ({:.4f}, {:.4f}, {:.4f})'.format(\n",
    "        isi_ex, isi_min, isi_mean, isi_max))"
   ]
  },
  {
   "cell_type": "markdown",
   "metadata": {},
   "source": [
    "- ISIs are as predicted: measured ISI is predicted rounded up to next time step\n",
    "- ISIs are perfectly regular as expected"
   ]
  },
  {
   "cell_type": "code",
   "execution_count": 34,
   "metadata": {
    "collapsed": false
   },
   "outputs": [
    {
     "data": {
      "image/png": "[encoded data removed]",
      "text/plain": [
       "<matplotlib.figure.Figure at 0x110b239b0>"
      ]
     },
     "metadata": {},
     "output_type": "display_data"
    }
   ],
   "source": [
    "vv=np.linspace(-100, 30, 100)\n",
    "th = 1/(np.exp(-14.59-0.086*vv) + np.exp(-1.87  + 0.0701*vv))\n",
    "mh = 1/(1+np.exp((vv+75)/5.5))\n",
    "plt.plot(vv, th);\n",
    "plt.plot(vv, mh*1000);"
   ]
  },
  {
   "cell_type": "markdown",
   "metadata": {},
   "source": [
    "### Synapse Model\n",
    "\n",
    "We test the synapse model by placing it between two parrot neurons, sending spikes with differing intervals and compare to expected weights."
   ]
  },
  {
   "cell_type": "code",
   "execution_count": 18,
   "metadata": {
    "collapsed": false
   },
   "outputs": [
    {
     "data": {
      "text/plain": [
       "array([ 0.,  0.,  0.,  0.,  0.,  0.,  0.])"
      ]
     },
     "execution_count": 18,
     "metadata": {},
     "output_type": "execute_result"
    }
   ],
   "source": [
    "nest.ResetKernel()\n",
    "sp = nest.GetDefaults('ht_synapse')\n",
    "P0 = sp['P']\n",
    "dP = sp['delta_P']\n",
    "tP = sp['tau_P']\n",
    "spike_times = [10., 12., 20., 20.5, 100., 200., 1000.]\n",
    "expected = [(0., P0, P0)]\n",
    "for idx, t in enumerate(spike_times):\n",
    "    tlast, Psend, Ppost = expected[idx]\n",
    "    Psend = 1 - (1-Ppost)*math.exp(-(t-tlast)/tP)\n",
    "    expected.append((t, Psend, (1-dP)*Psend))\n",
    "expected_weights = list(zip(*expected[1:]))[1]\n",
    "\n",
    "sg = nest.Create('spike_generator', params={'spike_times': spike_times})\n",
    "n = nest.Create('parrot_neuron', 2)\n",
    "wr = nest.Create('weight_recorder')\n",
    "\n",
    "nest.SetDefaults('ht_synapse', {'weight_recorder': wr[0], 'weight': 1.0})\n",
    "nest.Connect(sg, n[:1])\n",
    "nest.Connect(n[:1], n[1:], syn_spec='ht_synapse')\n",
    "nest.Simulate(1200)\n",
    "\n",
    "rec_weights = nest.GetStatus(wr)[0]['events']['weights']\n",
    "\n",
    "np.array(rec_weights) - np.array(expected_weights)\n"
   ]
  },
  {
   "cell_type": "markdown",
   "metadata": {},
   "source": [
    "Perfect agreement, synapse model looks fine."
   ]
  },
  {
   "cell_type": "code",
   "execution_count": null,
   "metadata": {
    "collapsed": true
   },
   "outputs": [],
   "source": []
  }
 ],
 "metadata": {
  "anaconda-cloud": {},
  "kernelspec": {
   "display_name": "Python [conda root]",
   "language": "python",
   "name": "conda-root-py"
  },
  "language_info": {
   "codemirror_mode": {
    "name": "ipython",
    "version": 3
   },
   "file_extension": ".py",
   "mimetype": "text/x-python",
   "name": "python",
   "nbconvert_exporter": "python",
   "pygments_lexer": "ipython3",
   "version": "3.5.2"
  }
 },
 "nbformat": 4,
 "nbformat_minor": 1
}
